{
  "cells": [
    {
      "cell_type": "markdown",
      "metadata": {
        "id": "yKJ60XIzDipv"
      },
      "source": []
    },
    {
      "cell_type": "markdown",
      "metadata": {
        "id": "5pMYZ4FuDmiI"
      },
      "source": [
        "1.Write a code to create a string with your name and print it."
      ]
    },
    {
      "cell_type": "code",
      "execution_count": null,
      "metadata": {
        "vscode": {
          "languageId": "tex"
        }
      },
      "outputs": [],
      "source": [
        " \n",
        "1.What are data structures,and why are they important? \n",
        "\n",
        "\n",
        "A data structure is a way of organizing, storing, and managing data so it can be used \n",
        "efficiently. Think of it like containers or tools you choose depending on the kind of work you want \n",
        "to do with your data. \n",
        "Examples include: \n",
        "● Array/List → stores elements in order \n",
        "● Stack → last in, first out (like a pile of plates) \n",
        "● Queue → first in, first out (like a line at a ticket counter) \n",
        "● Linked List → elements connected with pointers \n",
        "● Tree → hierarchical data (like a family tree) \n",
        "● Graph → nodes connected with edges (like social networks) \n",
        "● Hash Table/Dictionary → key-value pairs for fast lookups \n",
        "Why Are Data Structures Important? \n",
        "➢ Efficiency – They make programs run faster and use less memory. \n",
        "➢ Example: Searching for a name in a phone book is much quicker with a sorted \n",
        "structure than with random notes. \n",
        "➢ Reusability – Once you learn them, you can solve many problems with the same \n",
        "structures. \n",
        "➢ Scalability – Good data structures handle large amounts of data smoothly (e.g., \n",
        "social media storing billions of posts) \n",
        "➢ Problem-Solving – Many coding interviews and competitive programming \n",
        "problems are based on choosing the right data structure. \n",
        "➢ Foundation of Algorithms – Algorithms work best when paired with the right \n",
        "data structure (like Dijkstra’s shortest path algorith2.Explain the m using graphs) \n",
        "\n",
        "\n",
        "2.difference between mutable and immutable data types with \n",
        "examples? \n",
        "\n",
        "Ans: Mutable Data Types \n",
        "● Definition: Objects that can be changed after creation. \n",
        "● You can add, remove, or update elements without creating a new object. \n",
        "✅\n",
        " Examples in Python: \n",
        "● List, Dictionary, Set \n",
        "a.Example (Mutable – List): \n",
        "❖ You can add, remove, or update elements without creating a new object. \n",
        "Example in Python: Example \n",
        "● List, Dictionary, Set \n",
        ". Mutable Data Types \n",
        "● Definition: Objects that can be changed after creation. \n",
        "Example (Mutable – List): \n",
        "b. Immutable Data Types \n",
        "● Definition: Objects that cannot be changed after creation. \n",
        "● If you try to modify, Python creates a new object instead of changing the original. \n",
        "Examples in Python: \n",
        "● int, float, string (str), tuple, bool \n",
        "● Example (Immutable – String): \n",
        "\n",
        "3. What are the main differences between lists and tuples in Python?\n",
        "\n",
        "\n",
        "In Python, lists and tuples both store collections of data, but differ in \n",
        "mutability, performance and memory usage. Lists are    \n",
        "mutable,allowingmodifications, while tuples are immutable. Choosing \n",
        "between them depends on whether you need to modify the data or \n",
        "prioritize performance and memory efficiency. \n",
        "Key Differences between List and Tuple \n",
        "S.No \n",
        "List \n",
        "Tuple \n",
        "1 \n",
        "Lists are mutable(can be \n",
        "modified). \n",
        "Tuples are immutable(cannot \n",
        "be modified). \n",
        "2 \n",
        "Iteration over lists is \n",
        "time-consuming. \n",
        "Iterations over tuple is faster \n",
        "3 \n",
        "Lists are better for performing \n",
        "operations, such as insertion \n",
        "and deletion. \n",
        "Tuples are more suitable for \n",
        "accessing elements efficiently. \n",
        "4 Lists consume more memory. Tuples consumes less memory \n",
        "5 Lists have several built-in \n",
        "methods. \n",
        "Tuples have fewer built-in \n",
        "methods. \n",
        "6 Lists are more prone to \n",
        "unexpected changes and errors. \n",
        "Tuples, being immutable are \n",
        "less error prone. \n",
        " \n",
        "4. Describe how dictionaries store data? \n",
        "\n",
        "\n",
        "Dictionaries in Python store data as key-value pairs, where each key is unique and \n",
        "immutable (such as a string, number, or tuple), while each value can be of any data type \n",
        "and can be duplicated.\n",
        "\n",
        "\n",
        "\n",
        "5.Why might you use a set instead of a list in Python? \n",
        "\n",
        "\n",
        "Uniqueness: Sets automatically ensure all elements are unique and remove duplicates, \n",
        "while lists can contain duplicate values. This makes sets ideal when you need to store \n",
        "only distinct items. \n",
        "● Performance: Sets provide faster membership tests (checking if an element \n",
        "exists) with average time complexity of O(1) due to their hash table \n",
        "implementation, whereas lists have slower membership tests with O(n) \n",
        "complexity because they check each element sequentially. \n",
        "● Unordered Collection: Sets are unordered, so they do not maintain the insertion \n",
        "order of elements and do not support indexing. Lists maintain order and support \n",
        "indexing and slicing. \n",
        "● Mathematical Operations: Sets support mathematical set operations such as \n",
        "union, intersection, difference, and symmetric difference, which are very handy \n",
        "for tasks involving comparison or combination of collections.\n",
        "\n",
        "\n",
        "6.What is a string in Python, and how is it different from a list? \n",
        "\n",
        "\n",
        "a.In Python, a string is a sequence of characters enclosed within single or double \n",
        "quotes (e.g., \"hello\" or 'world'). It is an immutable data type, which means once a \n",
        "string is created, its content cannot be changed. \n",
        "b.A list is a sequence of items, where each item can be of any data type such as \n",
        "string, number, or even another list. Lists are mutable, meaning their elements \n",
        "can be modified, added, or removed after creation. \n",
        "\n",
        "\n",
        "7.How do tuples ensure data integrity in Python? \n",
        "\n",
        "\n",
        "a.In Python, a string is a sequence of characters enclosed within single or double \n",
        "quotes (e.g., \"hello\" or 'world'). It is an immutable data type, which means once a string \n",
        "is created, its content cannot be changed. \n",
        "b.A list is a sequence of items, where each item can be of any data type such as string, \n",
        "number, or even another list. Lists are mutable, meaning their elements can be modified, \n",
        "added, or removed after creation.\n",
        "\n",
        "\n",
        "8. What is a hash table, and how does it relate to dictionaries in Python?\n",
        "\n",
        "1. \n",
        "A hash table is a data structure used to store key-value pairs for fast \n",
        "insertion, lookup, and deletion. It works by using a hash function that \n",
        "converts the key into a unique index, which determines where the \n",
        "corresponding value is stored in an array. This enables quick access to \n",
        "values regardless of the size of the collection. Hash tables handle \n",
        "situations where multiple keys map to the same index (called collisions) \n",
        "typically by methods like chaining or open addressing. The overall \n",
        "efficiency of hash tables makes them widely used in programming for \n",
        "tasks involving mapping and quick retrieval of data. \n",
        "2. \n",
        "In Python, dictionaries are the built-in implementation of hash tables. \n",
        "Python dictionaries use hash functions to convert keys into indices, \n",
        "allowing quick access to values via these keys. Each key in a Python \n",
        "dictionary must be hashable, meaning its hash value is consistent. Python \n",
        "dictionaries store key-value pairs in an underlying hash table structure, \n",
        "abstracting the complexities of hashing, handling collisions, and resizing \n",
        "from the user. This makes dictionaries very efficient for associative array \n",
        "operations and is the primary reason behind their speed and flexibility. \n",
        "Thus, Python dictionaries are a high-level, optimized implementation of the hash \n",
        "table concept. \n",
        "\n",
        "\n",
        "9.Can lists contain different data types in Python? \n",
        "\n",
        "\n",
        "Yes, lists in Python can contain different data types. Python lists are heterogeneous, \n",
        "meaning they can hold elements of various types within the same list, such as integers, \n",
        "f\n",
        " loats, strings, booleans, other lists, tuples, and even dictionaries. This flexibility is a \n",
        "feature of Python’s dynamic typing system, where each element in a list is a reference to \n",
        "an object that can be of any type. Therefore, it is common and perfectly valid to have \n",
        "mixed data types in a single list. \n",
        "\n",
        "\n",
        "10. Explain why strings are immutable in Python? \n",
        "\n",
        "\n",
        "Strings are immutable in Python because once created, their contents cannot be \n",
        "changed. This design choice has several important advantages: \n",
        "1. Safety and Predictability: Immutability prevents accidental changes to string \n",
        "data. Once a string is created, it remains constant, avoiding unexpected side \n",
        "effects and making code easier to debug. \n",
        "2. Hashing: Because strings cannot change, their hash value remains constant, \n",
        "allowing them to be used reliably as keys in dictionaries and elements in sets, \n",
        "which depend on consistent hashing. \n",
        "3. Memory Efficiency: Immutable strings can be shared safely across the program. \n",
        "Python can optimize memory use by reusing string objects instead of creating \n",
        "new copies unnecessarily. \n",
        "4. Thread Safety: Immutable objects are inherently thread-safe, meaning multiple \n",
        "threads can access the same string without risk of data corruption. \n",
        "When a string appears to be changed in Python, a new string object is actually created, \n",
        "while the original string remains unchanged. This differs from mutable types like lists, \n",
        "where the original object can be modified directly. \n",
        "\n",
        "\n",
        "11.What advantages do dictionaries offer over lists for certain tasks? \n",
        "\n",
        "\n",
        "Dictionaries offer several advantages over lists for certain tasks: \n",
        "1. Faster Lookups by Key: Dictionaries use hash tables for storing data, which \n",
        "allows average constant time complexity  \n",
        "2. O(1) \n",
        "3. O(1) for searching values by keys. Lists require linear time  \n",
        "4. O(n) \n",
        "5. O(n) to search through elements, making dictionaries much faster for lookup \n",
        "operations when keys are known. \n",
        "6. Key-Value Pair Structure: Dictionaries store data as key-value pairs, allowing easy \n",
        "and intuitive association of related data (e.g., student name as key and age as \n",
        "value). Lists store data as ordered elements, requiring more complex indexing or \n",
        "multiple lists to represent related pairs. \n",
        "7. Unique Keys: Dictionary keys must be unique, preventing duplicate keys and thus \n",
        "enabling reliable data referencing. Lists allow duplicate values but cannot \n",
        "enforce unique identifiers directly. \n",
        "8. Flexible Key Types: Dictionary keys can be any immutable type (strings, numbers, \n",
        "tuples), providing versatile indexing beyond numeric positions. Lists are indexed \n",
        "strictly by integers starting from zero. \n",
        "9. Efficient Deletion and Insertion: Deleting an element by key or inserting a new \n",
        "key-value pair in a dictionary is generally faster due to hashing, while lists require \n",
        "shifting elements which takes linear time  \n",
        "10. O(n) \n",
        "11. O(n). \n",
        "Use Case Comparison \n",
        "Advantage Dictionary List \n",
        "Lookup Speed \n",
        "Fast by key (average  \n",
        "O(1) \n",
        "O(1)) \n",
        "Slow by value (linear  \n",
        "O(n) \n",
        "O(n)) \n",
        "Data Association Easy key-value mapping \n",
        "Requires parallel lists or custom \n",
        "indexing \n",
        "Key Uniqueness Keys must be unique Allows duplicates \n",
        "Key Types Any immutable type Integer indices only \n",
        "Generally  \n",
        "Deletion/Insertion \n",
        "Efficiency \n",
        "O(1) \n",
        "O(1) for keys \n",
        "Generally  \n",
        "O(n) \n",
        "O(n) for inserting/removing \n",
        "Dictionaries are thus ideal for tasks needing fast, unique-key-based retrieval and data \n",
        "association, while lists are better suited for ordered collections or sequential access \n",
        "scenarios.\n",
        "\n",
        "\n",
        "12. Describe a scenario where using a tuple would be preferable over a list? \n",
        "\n",
        "\n",
        "Dictionaries offer several advantages over lists for certain tasks: \n",
        "1. Faster Lookups by Key: Dictionaries use hash tables for storing data, which \n",
        "allows average constant time complexity  \n",
        "2. O(1) \n",
        "3. O(1) for searching values by keys. Lists require linear time  \n",
        "4. O(n) \n",
        "5. O(n) to search through elements, making dictionaries much faster for lookup \n",
        "operations when keys are known. \n",
        "6. Key-Value Pair Structure: Dictionaries store data as key-value pairs, allowing easy \n",
        "and intuitive association of related data (e.g., student name as key and age as \n",
        "value). Lists store data as ordered elements, requiring more complex indexing or \n",
        "multiple lists to represent related pairs. \n",
        "7. Unique Keys: Dictionary keys must be unique, preventing duplicate keys and thus \n",
        "enabling reliable data referencing. Lists allow duplicate values but cannot \n",
        "enforce unique identifiers directly. \n",
        "8. Flexible Key Types: Dictionary keys can be any immutable type (strings, numbers, \n",
        "tuples), providing versatile indexing beyond numeric positions. Lists are indexed \n",
        "strictly by integers starting from zero. \n",
        "9. Efficient Deletion and Insertion: Deleting an element by key or inserting a new \n",
        "key-value pair in a dictionary is generally faster due to hashing, while lists require \n",
        "shifting elements which takes linear time  \n",
        "10. O(n) \n",
        "11. O(n). \n",
        "Use Case Comparison \n",
        "Advantage Dictionary List \n",
        "Lookup Speed \n",
        "Fast by key (average  \n",
        "O(1) \n",
        "O(1)) \n",
        "Slow by value (linear  \n",
        "O(n) \n",
        "O(n)) \n",
        "Data Association Easy key-value mapping \n",
        "Requires parallel lists or custom \n",
        "indexing \n",
        "Key Uniqueness Keys must be unique Allows duplicates \n",
        "Key Types Any immutable type Integer indices only \n",
        "Deletion/Insertion \n",
        "Efficiency \n",
        "Generally  \n",
        "O(1) \n",
        "O(1) for keys \n",
        "Generally  \n",
        "O(n) \n",
        "O(n) for inserting/removing \n",
        "Dictionaries are thus ideal for tasks needing fast, unique-key-based retrieval and data \n",
        "association, while lists are better suited for ordered collections or sequential access \n",
        "scenarios. \n",
        "Describe a scenario where using a tuple would be preferable over a list? \n",
        "Describe a scenario where using a tuple would be preferable over a list? \n",
        "Using a tuple would be preferable over a list in scenarios where the data is meant to be \n",
        "immutable and fixed after creation. Key reasons include: \n",
        "1. Immutability: Tuples cannot be changed once created, which makes them \n",
        "suitable for storing data that should not be altered, such as fixed configuration \n",
        "values, coordinates, or records like dates of birth. This immutability helps avoid \n",
        "accidental modification in the code. \n",
        "2. Performance and Memory Efficiency: Tuples are generally faster to iterate over \n",
        "and use less memory compared to lists because they are stored in a contiguous \n",
        "memory block and are immutable. This makes tuples ideal for large collections \n",
        "of fixed data where performance and memory usage matter. \n",
        "3. Hashability: Tuples can be used as dictionary keys or elements of sets if all their \n",
        "contents are hashable, while lists cannot. This property is vital in cases where \n",
        "you need to use compound keys made of multiple values (e.g., storing a pair of \n",
        "coordinates as a dictionary key). \n",
        "4. Semantic clarity: Using a tuple explicitly signals that the collection of items is \n",
        "f\n",
        " ixed in size and content, potentially making the code easier to understand and \n",
        "maintain by conveying intent clearly. \n",
        "Example Scenario: \n",
        "Storing geographical coordinates (latitude, longitude) or RGB color codes as tuples is \n",
        "preferable because these values represent fixed sets of data that should not be altered \n",
        "accidentally, and tuples provide efficient, immutable containers for such use cases. \n",
        "In summary, use tuples over lists when data immutability, performance, and the ability to \n",
        "use the collection as a dictionary key are important considerations. \n",
        "\n",
        "\n",
        "13. Describe a scenario where using a tuple would be preferable over a \n",
        "list? \n",
        "\n",
        "\n",
        "A scenario where using a tuple would be preferable over a list is when \n",
        "dealing with a collection of data that should remain constant and not be \n",
        "modified throughout the program. For example, storing fixed data such as \n",
        "geographic coordinates (latitude, longitude), RGB color values, or \n",
        "configuration settings is best done using tuples because tuples are \n",
        "immutable, ensuring the data cannot be changed accidentally. \n",
        "Tuples are also more memory-efficient and faster than lists, which is \n",
        "beneficial when handling large, fixed-size data collections. Additionally, \n",
        "tuples can be used as keys in dictionaries and elements of sets since they \n",
        "are hashable (if their contents are hashable), unlike lists which are mutable \n",
        "and unhashable. \n",
        "In summary, tuples are ideal when the data is fixed in size and content, \n",
        "performance and memory efficiency matter, and immutability provides \n",
        "safety and clarity in code. \n",
        "\n",
        "\n",
        "14.How does the “in” keyword work differently for lists and dictionaries? \n",
        "\n",
        "\n",
        "The \"in\" keyword in Python works differently for lists and dictionaries primarily \n",
        "due to their underlying data structures and purposes: \n",
        "● For lists, the \"in\" keyword checks if a value exists by scanning through each \n",
        "element in the list sequentially until it finds a match. This means the \n",
        "operation is a linear search with time complexity O(n), where n is the length \n",
        "of the list. \n",
        "● sFor dictionaries, the \"in\" keyword checks if a specified key exists in the \n",
        "dictionary. It does not check values. Dictionaries use a hash table \n",
        "internally, so the \"in\" operation for keys is very fast with average time \n",
        "complexity O(1), regardless of the dictionary size. \n",
        "●        In short, \"in\" with a list tests membership by searching through each \n",
        "item, while \"in\" with a dictionary tests whether a given key exists using a \n",
        "hash lookup, making it much faster for large data set \n",
        "\n",
        "\n",
        "15. Can you modify the elements of a tuple? Explain why or why not? \n",
        "\n",
        "\n",
        "Elements of a tuple cannot be modified because tuples are immutable data structures \n",
        "in Python. Immutability means once a tuple is created, its elements cannot be changed, \n",
        "added, or removed. This property ensures that the tuple remains fixed and \n",
        "unchangeable throughout its lifetime, unlike lists which are mutable and allow changes. \n",
        "If you try to modify a tuple element directly, Python will raise a TypeError indicating that \n",
        "item assignment is not supported. However, you can work around this by converting the \n",
        "tuple to a list, modifying the list, and then converting it back to a tuple. But technically, \n",
        "this creates a new tuple rather than modifying the original one. \n",
        "The immutability of tuples provides several benefits: \n",
        "● It guarantees that the data remains constant, making programs safer and more \n",
        "predictable. \n",
        "● Tuples can be used as keys in dictionaries or elements in sets because they are \n",
        "hashable. \n",
        "● It improves performance since Python can optimize access to immutable   \n",
        "objects. \n",
        "\n",
        "\n",
        "16.What is a nested dictionary, and give an example of its use case? \n",
        "\n",
        "\n",
        "A nested dictionary is a dictionary that contains one or more dictionaries as its values. \n",
        "Essentially, it is a dictionary inside another dictionary. This structure allows you to \n",
        "organize complex or hierarchical data in a clean and structured manner. \n",
        "Explanation \n",
        "In programming, a dictionary is a collection of key-value pairs enclosed within curly \n",
        "braces {}. When the value for a key itself is another dictionary, this forms a nested \n",
        "dictionary. This is useful for representing data with multiple levels, like records \n",
        "containing multiple attributes or grouped information. \n",
        "\n",
        "\n",
        "17. Describe the time complexity of accessing elements in a dictionary? \n",
        "\n",
        "\n",
        "The time complexity of accessing elements in a dictionary is generally  \n",
        "O(1) \n",
        "O(1) on average. This constant time complexity is because Python dictionaries are \n",
        "implemented using hash tables, which allow direct access to the value by computing \n",
        "the hash of the key and locating it quickly in memory. \n",
        "However, in the worst-case scenario, such as when many keys result in hash collisions, \n",
        "the time complexity can degrade to  \n",
        "O(n) \n",
        "O(n), where  \n",
        "n \n",
        "n is the number of elements. This happens because the dictionary needs to resolve \n",
        "collisions, often by methods like linked lists or probing, which may require linear time to \n",
        "f\n",
        " ind the correct element. \n",
        "\n",
        "\n",
        "18. In what situations are lists preferred over dictionaries? \n",
        "\n",
        "\n",
        "Lists are preferred over dictionaries in situations where: \n",
        "● The order of elements is important and needs to be maintained, since lists are \n",
        "ordered collections and preserve element order by index. \n",
        "● Access by position/index is needed, as lists provide fast O(1) time complexity for \n",
        "index-based access. \n",
        "● Data is accessed sequentially rather than by a specific key. \n",
        "● Memory efficiency is important, since lists generally consume less memory \n",
        "compared to dictionaries. \n",
        "● The data structure primarily contains elements without the need for key-value \n",
        "pairs or unique keys. \n",
        "● Operations require frequent additions, deletions, or modifications of elements by \n",
        "position. \n",
        "In contrast, dictionaries excel when fast lookups by key, unique key-value relationships, \n",
        "or associative data storage is needed. \n",
        "To summarize: \n",
        "Criteria \n",
        "Lists \n",
        "Dictionaries \n",
        "Ordering Ordered (indexed) \n",
        "Unordered (Python 3.6 and below), Ordered \n",
        "(3.7+) \n",
        "Data Access By index (fast O(1)) By key (average O(1)) \n",
        "Memory Use More memory efficient Uses more memory due to storing keys \n",
        "Duplicate \n",
        "Elements \n",
        "Allows duplicates Keys must be unique; values can duplicate \n",
        "Suitable For \n",
        "Sequential data, ordered \n",
        "collections \n",
        "Key-value mapping, fast lookup by keys \n",
        "Common Use \n",
        "Cases \n",
        "Storing lists of items, ordered \n",
        "data \n",
        "Lookup tables, configuration settings, \n",
        "mapping \n",
        "Therefore, lists are preferred when working with simple sequences that require order \n",
        "and positional access, whereas dictionaries are favored for associative arrays or \n",
        "mappings with unique keys and quick key-based retrievals \n",
        "\n",
        "\n",
        ".19.Why are dictionaries considered unordered, and how does that affect\n",
        "\n",
        "\n",
        "data retrieva? \n",
        ".Dictionaries are considered unordered because their main purpose is to provide fast \n",
        "key-based access to values rather than maintaining the order of elements. Traditionally, \n",
        "dictionaries are implemented as hash tables, which store elements based on a hash of \n",
        "the key rather than the order in which they were added. This lack of order means you \n",
        "cannot rely on keys or values being stored or retrieved in any particular sequence. \n",
        "However, starting from Python 3.7, dictionaries preserve the insertion order as an \n",
        "implementation detail, but they are conceptually still focused on key-based lookup \n",
        "rather than ordered data storage. \n",
        "This unordered nature affects data retrieval by optimizing for speed, offering average \n",
        "constant time complexity  \n",
        "O(1) \n",
        "O(1) for lookups, insertions, and deletions. Since dictionaries do not rely on indices for \n",
        "access (like lists do), you access data directly by keys, which is efficient but means you \n",
        "cannot retrieve elements by position or expect them in a consistent order unless you \n",
        "specifically rely on the insertion order in modern Python versions. \n",
        "Why Dictionaries Are Unordered \n",
        "● Implemented as hash tables aiming for fast lookups by key, not maintaining \n",
        "order of items. \n",
        "● Elements are stored based on key hashes, resulting in unpredictable ordering. \n",
        "● Storing order would reduce performance and increase memory usage. \n",
        "Effect on Data Retrieval \n",
        "● Lookup by key is very fast  \n",
        "● O(1) \n",
        "● O(1), regardless of the size of the dictionary. \n",
        "● No indexing like lists; you cannot access elements by their position. \n",
        "● Iteration order was arbitrary in older Python versions but is insertion order in \n",
        "Python 3.7+ by implementation. \n",
        "● Developers should design code that does not rely on order unless using Python \n",
        "3.7+ or explicit ordered dictionaries. \n",
        "In summary, dictionaries' unordered characteristic is due to their design for efficient \n",
        "key-based access, and while modern Python versions maintain insertion order, their \n",
        "primary use case remains fast retrieval by key rather than ordered data processing.\n",
        "\n",
        "\n",
        "20.Why are dictionaries considered unordered, and how does that affect \n",
        "data retrieva? \n",
        "\n",
        "\n",
        "Dictionaries are considered unordered because they do not maintain the order of \n",
        "elements based on their insertion sequence. Instead, dictionaries are optimized for fast \n",
        "key-based access using a hash table internally, which organizes data by keys rather than \n",
        "by order. This means that when you retrieve data from a traditional unordered dictionary, \n",
        "the order in which items are returned is not guaranteed to be the same as the order in \n",
        "which they were added. \n",
        "In terms of data retrieval, this unordered nature affects how dictionaries are accessed: \n",
        "you cannot use an index like with lists, and you must access values by specifying keys. \n",
        "This allows dictionaries to provide very fast lookup, insertion, and deletion operations \n",
        "on average because they rely on keys rather than positional order. Although from Python \n",
        "3.7 onwards, dictionaries preserve insertion order as an implementation detail, they are \n",
        "still fundamentally designed to prioritize key-based mapping over ordering. \n",
        "Why dictionaries are unordered \n",
        "● Dictionaries use keys for direct access rather than position-based indexing. \n",
        "● Internally implemented as hash tables for efficient key lookup. \n",
        "● Maintaining order would reduce performance and increase memory \n",
        "consumption. \n",
        "● Pre-Python 3.7 versions did not preserve any insertion order. \n",
        "Effect on data retrieval \n",
        "● Values are accessed using keys, not numeric indices. \n",
        "● Retrieval time is very fast on average (close to constant time). \n",
        "● Order of keys/values when iterated may not reflect insertion order (except in \n",
        "Python 3.7+). \n",
        "● If order matters, other structures like OrderedDict or lists are recommended. \n",
        "Thus, the unordered nature means dictionaries are optimized for fast key-value \n",
        "operations rather than ordered sequences, impacting how data is retrieved and used in \n",
        "programming. "
      ]
    },
    {
      "cell_type": "code",
      "execution_count": 31,
      "metadata": {
        "colab": {
          "base_uri": "https://localhost:8080/"
        },
        "id": "UyBumEoEDYaX",
        "outputId": "e2d63183-9c18-48c8-c072-8868945b505b"
      },
      "outputs": [
        {
          "name": "stdout",
          "output_type": "stream",
          "text": [
            "subhasmita\n",
            "<class 'str'>\n"
          ]
        }
      ],
      "source": [
        "name=\"subhasmita\"\n",
        "print(name)\n",
        "print(type(name))"
      ]
    },
    {
      "cell_type": "markdown",
      "metadata": {
        "id": "fxCnVJsaFQoa"
      },
      "source": [
        "2.Write a code to find the length of the string \"Hello World\""
      ]
    },
    {
      "cell_type": "code",
      "execution_count": null,
      "metadata": {
        "colab": {
          "base_uri": "https://localhost:8080/"
        },
        "id": "URgaEQP8FcRO",
        "outputId": "f1e9a974-0ff0-4c92-f930-fd714352874c"
      },
      "outputs": [
        {
          "name": "stdout",
          "output_type": "stream",
          "text": [
            "11\n"
          ]
        }
      ],
      "source": [
        "text=\"Hello World\"\n",
        "print(len(\"Hello World\"))"
      ]
    },
    {
      "cell_type": "markdown",
      "metadata": {
        "id": "KWJa6jvNQn-I"
      },
      "source": [
        "3.Write a code to slice the first 3 characters from the string \"Python Programming\""
      ]
    },
    {
      "cell_type": "code",
      "execution_count": null,
      "metadata": {
        "colab": {
          "base_uri": "https://localhost:8080/"
        },
        "id": "wpZ7puV3QsrV",
        "outputId": "ecca434f-9745-4b7f-cee2-e6c6d20c2cb2"
      },
      "outputs": [
        {
          "name": "stdout",
          "output_type": "stream",
          "text": [
            "Pyt\n"
          ]
        }
      ],
      "source": [
        "s = \"Python Programming\"\n",
        "first_three = s[:3]\n",
        "print(first_three)"
      ]
    },
    {
      "cell_type": "code",
      "execution_count": null,
      "metadata": {
        "colab": {
          "base_uri": "https://localhost:8080/"
        },
        "id": "qMU1AvmkRD0c",
        "outputId": "1d3fd8ab-fcc1-4a2c-b1f5-b4d6cdc3216b"
      },
      "outputs": [
        {
          "name": "stdout",
          "output_type": "stream",
          "text": [
            "sup\n"
          ]
        }
      ],
      "source": [
        "s=\"super market\"\n",
        "first_three = s[:3]\n",
        "print(first_three)"
      ]
    },
    {
      "cell_type": "markdown",
      "metadata": {
        "id": "t-ArjrjmRr-M"
      },
      "source": [
        "4.Write a code to convert the string \"hello\" to uppercase."
      ]
    },
    {
      "cell_type": "code",
      "execution_count": null,
      "metadata": {
        "colab": {
          "base_uri": "https://localhost:8080/"
        },
        "id": "9EUxrvU1R5SJ",
        "outputId": "d8e201ce-a8a3-418a-8a96-9b5a23676495"
      },
      "outputs": [
        {
          "name": "stdout",
          "output_type": "stream",
          "text": [
            "HELLO\n"
          ]
        }
      ],
      "source": [
        "s=\"hello\"\n",
        "upper_s= s.upper()\n",
        "print(upper_s)"
      ]
    },
    {
      "cell_type": "markdown",
      "metadata": {
        "id": "5xIhC3_-USi0"
      },
      "source": [
        "5.Write a code to replace the word \"apple\" with \"orange\" in the string \"I like apple\""
      ]
    },
    {
      "cell_type": "code",
      "execution_count": null,
      "metadata": {
        "colab": {
          "base_uri": "https://localhost:8080/"
        },
        "id": "j-U3jpNqU9C9",
        "outputId": "f1d15476-3dee-4ad6-dbca-f224e4c65f4c"
      },
      "outputs": [
        {
          "name": "stdout",
          "output_type": "stream",
          "text": [
            "I like orange\n"
          ]
        }
      ],
      "source": [
        "s = \"I like apple\"\n",
        "new_s = s.replace(\"apple\", \"orange\")\n",
        "print(new_s)"
      ]
    },
    {
      "cell_type": "markdown",
      "metadata": {
        "id": "qOChQ5NSVkQf"
      },
      "source": [
        "6. Write a code to create a list with numbers 1 to 5 and print it."
      ]
    },
    {
      "cell_type": "code",
      "execution_count": null,
      "metadata": {
        "colab": {
          "base_uri": "https://localhost:8080/"
        },
        "id": "oBbMjIWVVtuQ",
        "outputId": "57e732c1-9572-4896-8d3e-53f44c9b819e"
      },
      "outputs": [
        {
          "name": "stdout",
          "output_type": "stream",
          "text": [
            "[1, 2, 3, 4, 5]\n"
          ]
        }
      ],
      "source": [
        "numbers = [1, 2, 3, 4, 5]\n",
        "print(numbers)\n"
      ]
    },
    {
      "cell_type": "markdown",
      "metadata": {
        "id": "A66tskz-V78D"
      },
      "source": [
        "7.Write a code to append the number 10 to the list [1, 2, 3, 4]\n",
        "\n"
      ]
    },
    {
      "cell_type": "code",
      "execution_count": null,
      "metadata": {
        "colab": {
          "base_uri": "https://localhost:8080/"
        },
        "id": "nX4oB4WAWn1o",
        "outputId": "4dac9630-bc48-41b2-b9b2-e9e4803bfdf3"
      },
      "outputs": [
        {
          "name": "stdout",
          "output_type": "stream",
          "text": [
            "[1, 2, 3, 4, 10]\n"
          ]
        }
      ],
      "source": [
        "numbers=[1,2,3,4]\n",
        "numbers.append(10)\n",
        "print(numbers)"
      ]
    },
    {
      "cell_type": "markdown",
      "metadata": {
        "id": "YJvJcMvqW9nu"
      },
      "source": [
        "8. Write a code to remove the number 3 from the list [1, 2, 3, 4, 5]"
      ]
    },
    {
      "cell_type": "code",
      "execution_count": null,
      "metadata": {
        "colab": {
          "base_uri": "https://localhost:8080/"
        },
        "id": "ZRPGPRYYXLN5",
        "outputId": "0cf0ae54-58b8-4697-a5e1-8aadeb841b7a"
      },
      "outputs": [
        {
          "name": "stdout",
          "output_type": "stream",
          "text": [
            "[1, 2, 4, 5]\n"
          ]
        }
      ],
      "source": [
        "numbers=[1,2,3,4,5]\n",
        "numbers.remove(3)\n",
        "print(numbers)"
      ]
    },
    {
      "cell_type": "markdown",
      "metadata": {
        "id": "WljigcCpX-t0"
      },
      "source": [
        "9.Write a code to access the second element in the list ['a', 'b', 'c', 'd']"
      ]
    },
    {
      "cell_type": "code",
      "execution_count": null,
      "metadata": {
        "colab": {
          "base_uri": "https://localhost:8080/"
        },
        "id": "N0fI3AflYtQ3",
        "outputId": "65e022d4-03e0-4136-d490-9ecd11a855b9"
      },
      "outputs": [
        {
          "name": "stdout",
          "output_type": "stream",
          "text": [
            "b\n"
          ]
        }
      ],
      "source": [
        "my_list = ['a', 'b', 'c', 'd']\n",
        "second_element = my_list[1]\n",
        "print(second_element)\n"
      ]
    },
    {
      "cell_type": "code",
      "execution_count": null,
      "metadata": {
        "colab": {
          "base_uri": "https://localhost:8080/"
        },
        "id": "TtETEixTY2RG",
        "outputId": "375e629d-b333-4c02-f8ea-0fa6a299658d"
      },
      "outputs": [
        {
          "name": "stdout",
          "output_type": "stream",
          "text": [
            "b\n"
          ]
        }
      ],
      "source": [
        "my_list = ['a', 'b', 'c', 'd']\n",
        "second_element = my_list[1]\n",
        "print(second_element)"
      ]
    },
    {
      "cell_type": "markdown",
      "metadata": {
        "id": "48mBIUpjZXh-"
      },
      "source": [
        "10. Write a code to reverse the list [10, 20, 30, 40, 50]."
      ]
    },
    {
      "cell_type": "code",
      "execution_count": null,
      "metadata": {
        "colab": {
          "base_uri": "https://localhost:8080/"
        },
        "id": "BFKqSpAyZf1s",
        "outputId": "2d3d08aa-6bb3-470d-dfd7-aacb08d05adc"
      },
      "outputs": [
        {
          "name": "stdout",
          "output_type": "stream",
          "text": [
            "[50, 40, 30, 20, 10]\n"
          ]
        }
      ],
      "source": [
        "numbers = [10, 20, 30, 40, 50]\n",
        "numbers.reverse()\n",
        "print(numbers)\n"
      ]
    },
    {
      "cell_type": "markdown",
      "metadata": {
        "id": "rBtlaR2SZy5V"
      },
      "source": [
        "11. Write a code to create a tuple with the elements 100, 200, 300 and print it."
      ]
    },
    {
      "cell_type": "code",
      "execution_count": null,
      "metadata": {
        "colab": {
          "base_uri": "https://localhost:8080/"
        },
        "id": "7KMXQ8giZ8is",
        "outputId": "fc0c9847-0186-4c17-9a0f-19832169b827"
      },
      "outputs": [
        {
          "name": "stdout",
          "output_type": "stream",
          "text": [
            "(100, 200, 300)\n"
          ]
        }
      ],
      "source": [
        "my_tuple = (100, 200, 300)\n",
        "print(my_tuple)\n"
      ]
    },
    {
      "cell_type": "markdown",
      "metadata": {
        "id": "CSjBD11zaFPq"
      },
      "source": [
        "12. Write a code to access the second-to-last element of the tuple ('red', 'green', 'blue', 'yellow')."
      ]
    },
    {
      "cell_type": "code",
      "execution_count": null,
      "metadata": {
        "colab": {
          "base_uri": "https://localhost:8080/"
        },
        "id": "95H9iEoSaK6n",
        "outputId": "54499f43-71af-4f02-dec7-3c52d4efdae1"
      },
      "outputs": [
        {
          "name": "stdout",
          "output_type": "stream",
          "text": [
            "blue\n"
          ]
        }
      ],
      "source": [
        "my_tuple = ('red', 'green', 'blue', 'yellow')\n",
        "second_last_element = my_tuple[-2]\n",
        "print(second_last_element)\n"
      ]
    },
    {
      "cell_type": "markdown",
      "metadata": {
        "id": "_0YsivjpaYnV"
      },
      "source": [
        "13. Write a code to find the minimum number in the tuple (10, 20, 5, 15)"
      ]
    },
    {
      "cell_type": "code",
      "execution_count": null,
      "metadata": {
        "colab": {
          "base_uri": "https://localhost:8080/"
        },
        "id": "rdUN-Zf9aqUv",
        "outputId": "7b9c0443-6bb6-4014-eecf-f2f60d974f06"
      },
      "outputs": [
        {
          "name": "stdout",
          "output_type": "stream",
          "text": [
            "5\n"
          ]
        }
      ],
      "source": [
        "my_tuple = (10, 20, 5, 15)\n",
        "minimum_number = min(my_tuple)\n",
        "print(minimum_number)\n"
      ]
    },
    {
      "cell_type": "markdown",
      "metadata": {
        "id": "epnxm5eya1uH"
      },
      "source": [
        "14. Write a code to find the index of the element \"cat\" in the tuple ('dog', 'cat', 'rabbit')."
      ]
    },
    {
      "cell_type": "code",
      "execution_count": null,
      "metadata": {
        "colab": {
          "base_uri": "https://localhost:8080/"
        },
        "id": "e5uZrQ2na8JS",
        "outputId": "c0bc0287-8478-4ffe-d9c2-ea5b5dab80d1"
      },
      "outputs": [
        {
          "name": "stdout",
          "output_type": "stream",
          "text": [
            "1\n"
          ]
        }
      ],
      "source": [
        "my_tuple = ('dog', 'cat', 'rabbit')\n",
        "index_of_cat = my_tuple.index('cat')\n",
        "print(index_of_cat)\n"
      ]
    },
    {
      "cell_type": "markdown",
      "metadata": {
        "id": "VSiP9OrhbI6X"
      },
      "source": [
        "15. Write a code to create a tuple containing three different fruits and check if \"kiwi\" is in it."
      ]
    },
    {
      "cell_type": "code",
      "execution_count": null,
      "metadata": {
        "colab": {
          "base_uri": "https://localhost:8080/"
        },
        "id": "B1jwlUEYbPaV",
        "outputId": "94537ed2-e16d-4c31-c92a-47031432e969"
      },
      "outputs": [
        {
          "name": "stdout",
          "output_type": "stream",
          "text": [
            "Kiwi is not in the tuple.\n"
          ]
        }
      ],
      "source": [
        "fruits = ('apple', 'banana', 'orange')\n",
        "if 'kiwi' in fruits:\n",
        "    print(\"Kiwi is in the tuple.\")\n",
        "else:\n",
        "    print(\"Kiwi is not in the tuple.\")\n"
      ]
    },
    {
      "cell_type": "markdown",
      "metadata": {
        "id": "XNZude_zbcr0"
      },
      "source": [
        "16. Write a code to create a set with the elements 'a', 'b', 'c' and print it."
      ]
    },
    {
      "cell_type": "code",
      "execution_count": null,
      "metadata": {
        "colab": {
          "base_uri": "https://localhost:8080/"
        },
        "id": "TBwmqrxaboSM",
        "outputId": "ece8bf52-f8f1-4520-d41b-e1bf96249b4f"
      },
      "outputs": [
        {
          "name": "stdout",
          "output_type": "stream",
          "text": [
            "{'a', 'c', 'b'}\n"
          ]
        }
      ],
      "source": [
        "my_set = {'a', 'b', 'c'}\n",
        "print(my_set)\n"
      ]
    },
    {
      "cell_type": "markdown",
      "metadata": {
        "id": "7jeV1YOCbvvN"
      },
      "source": [
        "17. Write a code to clear all elements from the set {1, 2, 3, 4, 5}."
      ]
    },
    {
      "cell_type": "code",
      "execution_count": null,
      "metadata": {
        "colab": {
          "base_uri": "https://localhost:8080/"
        },
        "id": "g_uNA9jBb7US",
        "outputId": "71dba2c8-17ee-4113-bb54-6adecd296731"
      },
      "outputs": [
        {
          "name": "stdout",
          "output_type": "stream",
          "text": [
            "set()\n"
          ]
        }
      ],
      "source": [
        "my_set = {1, 2, 3, 4, 5}\n",
        "my_set.clear()\n",
        "print(my_set)\n"
      ]
    },
    {
      "cell_type": "markdown",
      "metadata": {
        "id": "SuiNPROgcABh"
      },
      "source": [
        "18. Write a code to remove the element 4 from the set {1, 2, 3, 4}."
      ]
    },
    {
      "cell_type": "code",
      "execution_count": null,
      "metadata": {
        "colab": {
          "base_uri": "https://localhost:8080/"
        },
        "id": "cPr_xukKcGXc",
        "outputId": "88ec5fd2-8b66-4d04-b47a-36ad67dbe357"
      },
      "outputs": [
        {
          "name": "stdout",
          "output_type": "stream",
          "text": [
            "{1, 2, 3}\n"
          ]
        }
      ],
      "source": [
        "my_set = {1, 2, 3, 4}\n",
        "my_set.remove(4)\n",
        "print(my_set)\n"
      ]
    },
    {
      "cell_type": "markdown",
      "metadata": {
        "id": "mcnrBIo0cO5O"
      },
      "source": [
        "19. Write a code to find the union of two sets {1, 2, 3} and {3, 4, 5}."
      ]
    },
    {
      "cell_type": "code",
      "execution_count": null,
      "metadata": {
        "colab": {
          "base_uri": "https://localhost:8080/"
        },
        "id": "kosc_bRJcUev",
        "outputId": "3ab86598-645c-49cf-9415-7d69f0730d77"
      },
      "outputs": [
        {
          "name": "stdout",
          "output_type": "stream",
          "text": [
            "{1, 2, 3, 4, 5}\n",
            "{1, 2, 3, 4, 5}\n"
          ]
        }
      ],
      "source": [
        "set1 = {1, 2, 3}\n",
        "set2 = {3, 4, 5}\n",
        "\n",
        "# Using union() method\n",
        "union_set = set1.union(set2)\n",
        "print(union_set)\n",
        "\n",
        "# Using | operator\n",
        "union_set_operator = set1 | set2\n",
        "print(union_set_operator)\n"
      ]
    },
    {
      "cell_type": "markdown",
      "metadata": {
        "id": "-jd3dFfychbR"
      },
      "source": [
        "20. Write a code to find the intersection of two sets {1, 2, 3} and {2, 3, 4}."
      ]
    },
    {
      "cell_type": "code",
      "execution_count": null,
      "metadata": {
        "colab": {
          "base_uri": "https://localhost:8080/"
        },
        "id": "RKY9H4KhcrVU",
        "outputId": "64063673-7614-45af-e695-7632d332391e"
      },
      "outputs": [
        {
          "name": "stdout",
          "output_type": "stream",
          "text": [
            "{2, 3}\n",
            "{2, 3}\n"
          ]
        }
      ],
      "source": [
        "set1 = {1, 2, 3}\n",
        "set2 = {2, 3, 4}\n",
        "\n",
        "# Using intersection() method\n",
        "intersection_set = set1.intersection(set2)\n",
        "print(intersection_set)\n",
        "\n",
        "# Using & operator\n",
        "intersection_set_operator = set1 & set2\n",
        "print(intersection_set_operator)\n"
      ]
    },
    {
      "cell_type": "markdown",
      "metadata": {
        "id": "vppq8lyuc3dh"
      },
      "source": [
        "21. Write a code to create a dictionary with the keys \"name\", \"age\", and \"city\", and print it."
      ]
    },
    {
      "cell_type": "code",
      "execution_count": null,
      "metadata": {
        "colab": {
          "base_uri": "https://localhost:8080/"
        },
        "id": "MumVfNChdDK7",
        "outputId": "717f554d-7bae-4b21-a476-d54b6ccb226b"
      },
      "outputs": [
        {
          "name": "stdout",
          "output_type": "stream",
          "text": [
            "{'name': 'Alice', 'age': 30, 'city': 'New York'}\n"
          ]
        }
      ],
      "source": [
        "my_dict = {\n",
        "    \"name\": \"Alice\",\n",
        "    \"age\": 30,\n",
        "    \"city\": \"New York\"\n",
        "}\n",
        "print(my_dict)\n"
      ]
    },
    {
      "cell_type": "code",
      "execution_count": null,
      "metadata": {
        "id": "fWHJW6IGcuhM"
      },
      "outputs": [],
      "source": []
    },
    {
      "cell_type": "markdown",
      "metadata": {
        "id": "UNQ2JdXmTzZI"
      },
      "source": [
        "22. Write a code to add a new key-value pair \"country\": \"USA\" to the dictionary {'name': 'John', 'age': 25}."
      ]
    },
    {
      "cell_type": "code",
      "execution_count": null,
      "metadata": {
        "colab": {
          "base_uri": "https://localhost:8080/"
        },
        "id": "WiRn34dFT5cO",
        "outputId": "e8944d5f-baae-4c55-f4d3-c8c550fa5555"
      },
      "outputs": [
        {
          "name": "stdout",
          "output_type": "stream",
          "text": [
            "{'name': 'John', 'age': 25, 'country': 'USA'}\n"
          ]
        }
      ],
      "source": [
        "person = {'name': 'John', 'age': 25}\n",
        "person['country'] = 'USA'\n",
        "print(person)\n"
      ]
    },
    {
      "cell_type": "code",
      "execution_count": null,
      "metadata": {
        "colab": {
          "base_uri": "https://localhost:8080/"
        },
        "id": "36Du6f7JUkmx",
        "outputId": "4d4e15da-e21d-44d8-9545-1654ab7a584e"
      },
      "outputs": [
        {
          "name": "stdout",
          "output_type": "stream",
          "text": [
            "{'name': 'john', 'age': 25, 'country': 'USA'}\n"
          ]
        }
      ],
      "source": [
        "person={'name':'john','age':25}\n",
        "person['country']='USA'\n",
        "print(person)"
      ]
    },
    {
      "cell_type": "markdown",
      "metadata": {
        "id": "YhgSeLflVU0K"
      },
      "source": [
        "23. Write a code to access the value associated with the key \"name\" in the dictionary {'name': 'Alice', 'age': 30}."
      ]
    },
    {
      "cell_type": "code",
      "execution_count": null,
      "metadata": {
        "colab": {
          "base_uri": "https://localhost:8080/"
        },
        "id": "F7F0j88nVcKG",
        "outputId": "6c409169-cfba-4a73-d2cf-9189565d93e3"
      },
      "outputs": [
        {
          "name": "stdout",
          "output_type": "stream",
          "text": [
            "Alice\n"
          ]
        }
      ],
      "source": [
        "person = {'name': 'Alice', 'age': 30}\n",
        "name_value = person['name']\n",
        "print(name_value)"
      ]
    },
    {
      "cell_type": "markdown",
      "metadata": {
        "id": "k7znUOQwV3RJ"
      },
      "source": [
        "24. Write a code to remove the key \"age\" from the dictionary {'name': 'Bob', 'age': 22, 'city': 'New York'}.\n",
        "\n"
      ]
    },
    {
      "cell_type": "code",
      "execution_count": null,
      "metadata": {
        "colab": {
          "base_uri": "https://localhost:8080/"
        },
        "id": "OVjZjrcpV_wj",
        "outputId": "c5bfed69-141a-4826-ca9b-74010f6af1dd"
      },
      "outputs": [
        {
          "name": "stdout",
          "output_type": "stream",
          "text": [
            "{'name': 'Bob', 'city': 'New York'}\n"
          ]
        }
      ],
      "source": [
        "person = {'name': 'Bob', 'age': 22, 'city': 'New York'}\n",
        "del person['age']\n",
        "print(person)"
      ]
    },
    {
      "cell_type": "code",
      "execution_count": null,
      "metadata": {
        "colab": {
          "base_uri": "https://localhost:8080/"
        },
        "id": "2jW3_2AUXSEq",
        "outputId": "1347b8c0-cbbd-4621-d805-98cfbe28b46e"
      },
      "outputs": [
        {
          "name": "stdout",
          "output_type": "stream",
          "text": [
            "{'name': 'bob', 'city': 'new york'}\n"
          ]
        }
      ],
      "source": [
        "person={'name':'bob','age':22,'city':'new york'}\n",
        "remove=person.pop('age')\n",
        "print(person)"
      ]
    },
    {
      "cell_type": "markdown",
      "metadata": {
        "id": "7SxFQ0yoXiTf"
      },
      "source": [
        "25. Write a code to check if the key \"city\" exists in the dictionary {'name': 'Alice', 'city': 'Paris'}.\n",
        "\n"
      ]
    },
    {
      "cell_type": "code",
      "execution_count": null,
      "metadata": {
        "colab": {
          "base_uri": "https://localhost:8080/"
        },
        "id": "MLxJ_nPeXrWr",
        "outputId": "105b9f55-7d2d-4a45-a7e3-b0e02b534170"
      },
      "outputs": [
        {
          "name": "stdout",
          "output_type": "stream",
          "text": [
            "Key 'city' exists in the dictionary.\n"
          ]
        }
      ],
      "source": [
        "person = {'name': 'Alice', 'city': 'Paris'}\n",
        "if 'city' in person:\n",
        "    print(\"Key 'city' exists in the dictionary.\")\n",
        "else:\n",
        "    print(\"Key 'city' does not exist in the dictionary.\")\n"
      ]
    },
    {
      "cell_type": "code",
      "execution_count": null,
      "metadata": {
        "colab": {
          "base_uri": "https://localhost:8080/"
        },
        "id": "wg4gV0vFYKoh",
        "outputId": "59ded49e-a9a5-4e2f-9ba5-f7e0b3f48669"
      },
      "outputs": [
        {
          "name": "stdout",
          "output_type": "stream",
          "text": [
            "key 'city' is exists\n"
          ]
        }
      ],
      "source": [
        "person={'name':'alice','city':'paris'}\n",
        "if 'city'in person:\n",
        "  print(\"key 'city' is exists\")\n",
        "else:\n",
        "  print(\"key'city' does not exist\")"
      ]
    },
    {
      "cell_type": "markdown",
      "metadata": {
        "id": "64pZIRxmZ3Lz"
      },
      "source": [
        "26. Write a code to create a list, a tuple, and a dictionary, and print them all."
      ]
    },
    {
      "cell_type": "code",
      "execution_count": null,
      "metadata": {
        "colab": {
          "base_uri": "https://localhost:8080/"
        },
        "id": "3BS8z6FbZ8_o",
        "outputId": "a504447b-568b-4cab-94b6-8e8aaae67e6e"
      },
      "outputs": [
        {
          "name": "stdout",
          "output_type": "stream",
          "text": [
            "List: [1, 2, 3, 4, 5]\n",
            "Tuple: (10, 20, 30, 40, 50)\n",
            "Dictionary: {'name': 'John', 'age': 25, 'city': 'New York'}\n"
          ]
        }
      ],
      "source": [
        "# Creating a list\n",
        "my_list = [1, 2, 3, 4, 5]\n",
        "\n",
        "# Creating a tuple\n",
        "my_tuple = (10, 20, 30, 40, 50)\n",
        "\n",
        "# Creating a dictionary\n",
        "my_dict = {'name': 'John', 'age': 25, 'city': 'New York'}\n",
        "\n",
        "# Printing all\n",
        "print(\"List:\", my_list)\n",
        "print(\"Tuple:\", my_tuple)\n",
        "print(\"Dictionary:\", my_dict)\n"
      ]
    },
    {
      "cell_type": "markdown",
      "metadata": {
        "id": "vqAcy95wajm7"
      },
      "source": [
        "27. Write a code to create a list of 5 random numbers between 1 and 100, sort it in ascending order, and print the\n",
        "result.(replaced)"
      ]
    },
    {
      "cell_type": "code",
      "execution_count": null,
      "metadata": {
        "colab": {
          "base_uri": "https://localhost:8080/"
        },
        "id": "Z26DFamCb3rg",
        "outputId": "ae00511f-ab3c-4837-9e6b-924a2949ef31"
      },
      "outputs": [
        {
          "name": "stdout",
          "output_type": "stream",
          "text": [
            "[21, 42, 54, 60, 65]\n"
          ]
        }
      ],
      "source": [
        "import random\n",
        "\n",
        "# Create a list of 5 random numbers between 1 and 100\n",
        "random_numbers = [random.randint(1, 100) for _ in range(5)]\n",
        "\n",
        "# Sort the list in ascending order\n",
        "random_numbers.sort()\n",
        "\n",
        "# Print the sorted list\n",
        "print(random_numbers)"
      ]
    },
    {
      "cell_type": "code",
      "execution_count": null,
      "metadata": {
        "colab": {
          "base_uri": "https://localhost:8080/"
        },
        "id": "EEXHqEBTcFuV",
        "outputId": "3bcc68c1-4f66-43dd-c459-970d7b74356a"
      },
      "outputs": [
        {
          "name": "stdout",
          "output_type": "stream",
          "text": [
            "[6, 7, 40, 56, 66]\n"
          ]
        }
      ],
      "source": [
        "import random\n",
        "\n",
        "# creat a loist of 5 random numbers between 1 and 100\n",
        "random_numbers = [random.randint(1,100) for _ in range (5)]\n",
        "\n",
        "# sort the list in ascending order\n",
        "random_numbers.sort()\n",
        "\n",
        "# print the sorted list\n",
        "print(random_numbers)"
      ]
    },
    {
      "cell_type": "markdown",
      "metadata": {
        "id": "B2bQGdjHedIu"
      },
      "source": [
        "28. Write a code to create a list with strings and print the element at the third index.\n",
        "\n"
      ]
    },
    {
      "cell_type": "code",
      "execution_count": null,
      "metadata": {
        "colab": {
          "base_uri": "https://localhost:8080/"
        },
        "id": "BlbhT6eths6U",
        "outputId": "f972226a-c741-4b5a-dd15-a71bf0152e0b"
      },
      "outputs": [
        {
          "name": "stdout",
          "output_type": "stream",
          "text": [
            "date\n"
          ]
        }
      ],
      "source": [
        "# Create a list with strings\n",
        "my_list = ['apple', 'banana', 'cherry', 'date', 'elderberry']\n",
        "\n",
        "# Print the element at the third index\n",
        "print(my_list[3])\n"
      ]
    },
    {
      "cell_type": "markdown",
      "metadata": {
        "id": "r8jQmioEhyVp"
      },
      "source": [
        "29. Write a code to combine two dictionaries into one and print the result."
      ]
    },
    {
      "cell_type": "code",
      "execution_count": null,
      "metadata": {
        "colab": {
          "base_uri": "https://localhost:8080/"
        },
        "id": "nmFYpn-UiAxv",
        "outputId": "b6b76889-cefb-4561-e47a-eb8b4a52d153"
      },
      "outputs": [
        {
          "name": "stdout",
          "output_type": "stream",
          "text": [
            "Combined dictionary using update(): {'name': 'John', 'age': 25, 'city': 'New York', 'country': 'USA'}\n"
          ]
        }
      ],
      "source": [
        "# Creating two dictionaries\n",
        "dict1 = {'name': 'John', 'age': 25}\n",
        "dict2 = {'city': 'New York', 'country': 'USA'}\n",
        "\n",
        "# Method 1: Using update() method (modifies dict1)\n",
        "dict1.update(dict2)\n",
        "print(\"Combined dictionary using update():\", dict1)\n"
      ]
    },
    {
      "cell_type": "markdown",
      "metadata": {
        "id": "fjKGkNvLiIWl"
      },
      "source": [
        "30. Write a code to convert a list of strings into a set."
      ]
    },
    {
      "cell_type": "code",
      "execution_count": null,
      "metadata": {
        "colab": {
          "base_uri": "https://localhost:8080/"
        },
        "id": "pg-Q_NIwifMo",
        "outputId": "1be41dd3-e392-416a-f44c-5d4a8a137194"
      },
      "outputs": [
        {
          "name": "stdout",
          "output_type": "stream",
          "text": [
            "{'cherry', 'apple', 'banana'}\n"
          ]
        }
      ],
      "source": [
        "# creat a list of strings\n",
        "my_list = ['apple','banana','apple','cherry','banana']\n",
        "\n",
        "# convert the list to a set\n",
        "my_set = set(my_list)\n",
        "\n",
        "# print the set\n",
        "print(my_set)"
      ]
    }
  ],
  "metadata": {
    "colab": {
      "provenance": []
    },
    "kernelspec": {
      "display_name": "Python 3",
      "name": "python3"
    },
    "language_info": {
      "name": "python"
    }
  },
  "nbformat": 4,
  "nbformat_minor": 0
}
