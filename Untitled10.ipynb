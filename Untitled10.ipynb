{
  "nbformat": 4,
  "nbformat_minor": 0,
  "metadata": {
    "colab": {
      "provenance": []
    },
    "kernelspec": {
      "name": "python3",
      "display_name": "Python 3"
    },
    "language_info": {
      "name": "python"
    }
  },
  "cells": [
    {
      "cell_type": "markdown",
      "source": [
        "1. What is the difference between a function and a method in Python?\n",
        "In Python? **bold text**\n",
        "\n",
        "\n",
        "both functions and methods are blocks of reusable code, but their key distinction lies in their association with classes and objects.\n",
        "**Function:**\n",
        "A function is a standalone block of code defined independently, not within a class.\n",
        "It is called directly by its name and can be used for general-purpose tasks.\n",
        "Functions typically operate on data passed to them as arguments and do not implicitly receive an object instance\n",
        "\n",
        "**Method:**\n",
        "A method is a function that is defined inside a class.\n",
        "It is associated with an object (an instance of the class) and is called on that object using dot notation (object.method()).\n",
        "Methods implicitly receive the object instance they are called on as their first argument, conventionally named self. This allows them to access and manipulate the object's attributes."
      ],
      "metadata": {
        "id": "dV16M5rvx3Mr"
      }
    },
    {
      "cell_type": "markdown",
      "source": [],
      "metadata": {
        "id": "ojgY87J-fsVl"
      }
    },
    {
      "cell_type": "markdown",
      "source": [
        "2. Explain the concept of function arguments and parameters in Python?\n",
        "\n",
        "In Python, parameters and arguments are distinct but related concepts concerning how data is passed into functions.\n",
        "**Parameters**:\n",
        "Parameters are the variables defined within the parentheses of a function's definition. They act as placeholders for the values that the function expects to receive when it is called. Parameters specify the types and number of inputs a function can accept.\n",
        "Consider the following function definition:\n",
        "\n",
        "**Arguments:**\n",
        "Arguments are the actual values or expressions that are passed to a function when it is called. These values are assigned to the corresponding parameters in the function's definition."
      ],
      "metadata": {
        "id": "rMYKMChiyVAs"
      }
    },
    {
      "cell_type": "markdown",
      "source": [
        "3. What are the different ways to define and call a function in Python?\n",
        "\n",
        "A function in Python is defined using the def keyword, followed by the function name, a pair of parentheses enclosing any parameters, and a colon. The function's body is indented beneath this line."
      ],
      "metadata": {
        "id": "OFDZW7vGzPHu"
      }
    },
    {
      "cell_type": "markdown",
      "source": [
        "4. What is the purpose of the `return` statement in a Python function?\n",
        "\n",
        "The return statement in a Python function serves two primary purposes:\n",
        "Terminating Function Execution: When a return statement is encountered within a function, the function's execution immediately ceases. No further lines of code within that function will be executed after the return statement.\n",
        "Returning a Value to the Caller: The return statement allows a function to send a value back to the part of the code that called it. This returned value can then be used by the caller, for example, by assigning it to a variable, using it in an expression, or passing it as an argument to another function."
      ],
      "metadata": {
        "id": "9Ny3C_hQzkSB"
      }
    },
    {
      "cell_type": "markdown",
      "source": [
        "5. **What are iterators in Python and how do they differ from iterables?**\n",
        "\n",
        "\n",
        "In Python, iterables are objects that can be iterated over, meaning you can loop through their elements one by one. Examples include lists, tuples, strings, and dictionaries. An object is considered iterable if it implements the __iter__() method, which returns an iterator, or the __getitem__() method, which allows access to elements by index.\n",
        "Iterators, on the other hand, are objects that represent a stream of data and provide a way to access elements sequentially. An iterator must implement two methods:\n",
        "__iter__(): Returns the iterator object itself.\n",
        "__next__(): Returns the next item from the sequence. If no more items are available, it raises a StopIteration exception."
      ],
      "metadata": {
        "id": "GXwNPMNoz5ut"
      }
    },
    {
      "cell_type": "markdown",
      "source": [
        "6**. Explain the concept of generators in Python and how they are defined.**\n",
        "\n",
        "Generators in Python are a special type of iterable that allows for the generation of values on the fly, one at a time, rather than storing the entire sequence in memory. This makes them highly memory-efficient, especially when dealing with large datasets or infinite sequences.\n"
      ],
      "metadata": {
        "id": "MQF2urDU15w7"
      }
    },
    {
      "cell_type": "markdown",
      "source": [
        "7. What are the advantages of using generators over regular functions?\n",
        "\n",
        "Generators offer advantages over regular functions through memory-efficient, on-demand value generation for potentially infinite or large datasets, performance benefits from lazy evaluation, and the ability to compose complex data processing pipelines by yielding values one at a time. They also allow for pausing and resuming execution, providing greater control and enabling the creation of sophisticated iterators without explicit iterator managemen\n",
        "\n"
      ],
      "metadata": {
        "id": "iiM1di6t2TPd"
      }
    },
    {
      "cell_type": "markdown",
      "source": [
        "8. What is a lambda function in Python and when is it typically used?\n",
        "\n",
        "A lambda function in Python is a small, anonymous function defined using the lambda keyword. Unlike regular functions defined with def, lambda functions do not have a name and are restricted to a single expression, the result of which is implicitly returned."
      ],
      "metadata": {
        "id": "UCnr6jsA235E"
      }
    },
    {
      "cell_type": "markdown",
      "source": [
        "9.. Explain the purpose and usage of the `map()` function in Python?\n",
        "\n",
        "The map() function in Python is a built-in function used to apply a specified function to each item in an iterable (like a list, tuple, or set) and returns an iterator of the results. It is a powerful tool for transforming data in a functional programming style.\n",
        "Purpose:\n",
        "The primary purpose of map() is to perform a transformation on each element of an iterable without requiring an explicit for loop. This can lead to more concise, readable, and often more efficient code, especially when dealing with large datasets."
      ],
      "metadata": {
        "id": "Te3iFH483SM9"
      }
    },
    {
      "cell_type": "markdown",
      "source": [
        "10. What is the difference between `map()`, `reduce()`, and `filter()` functions in Python?\n",
        "\n",
        "The map(), reduce(), and filter() functions in Python are higher-order functions used for functional programming paradigms, each serving a distinct purpose:\n",
        "map():\n",
        "Purpose: Applies a given function to each item in an iterable (like a list) and returns an iterator that yields the results.\n",
        "Output: An iterator of the same length as the input iterable, containing the transformed elements.\n",
        "Example: To square each number in a list"
      ],
      "metadata": {
        "id": "kTRzjMrU3uJ_"
      }
    },
    {
      "cell_type": "markdown",
      "source": [
        " how the internal mechanism of the sum operation works in Python when using the reduce() function with the given list:.\n",
        "\n",
        "Step-by-Step Sum Using reduce()\n",
        "The reduce() function repeatedly applies a function (like addition) to pairs of elements in a sequence, accumulating the result each time until only a single value remains.\n",
        "\n",
        "For sum, you typically use either a lambda function or a standard addition function.\n",
        "\n",
        "If no initial value is provided, reduce() starts by applying the function to the first two elements of the list, then continues by combining the result with the next element, and so on.\n"
      ],
      "metadata": {
        "id": "zr-d7GA482rP"
      }
    },
    {
      "cell_type": "markdown",
      "source": [
        "Given list:\n",
        "Function: lambda x, y: x + y\n",
        "\n",
        "Step 1: 47 + 11 = 58 (accumulator is now 58)\n",
        "\n",
        "Step 2: 58 + 42 = 100 (accumulator is now 100)\n",
        "\n",
        "Step 3: 100 + 13 = 113 (accumulator is now 113, which is the final sum)\n",
        "\n",
        "Final result: 113\n",
        "\n",
        "This is how reduce() achieves the sum step-by-step, mimicking manual addition on paper, but using a function to process pairs until only one value (the total sum) is left.\n",
        "\n"
      ],
      "metadata": {
        "id": "5KfEHL46CEKN"
      }
    },
    {
      "cell_type": "markdown",
      "source": [
        "                              PRACTICAL"
      ],
      "metadata": {
        "id": "HgZpcsfoCInX"
      }
    },
    {
      "cell_type": "markdown",
      "source": [
        "1. Write a Python function that takes a list of numbers as input and returns the sum of all even numbers in\n",
        "the list."
      ],
      "metadata": {
        "id": "JQFosIgoFB2h"
      }
    },
    {
      "cell_type": "code",
      "source": [
        "def sum_even_numbers(numbers):\n",
        "    even_sum = 0\n",
        "    for num in numbers:\n",
        "        if num % 2 == 0:\n",
        "            even_sum += num\n",
        "    return even_sum\n",
        "print(sum_even_numbers([1, 2, 3, 4, 5, 6, 7, 8, 9]))"
      ],
      "metadata": {
        "colab": {
          "base_uri": "https://localhost:8080/"
        },
        "id": "qTSCvTfOCXMA",
        "outputId": "f2459381-35cd-4713-cedd-a4437a3d6d2a"
      },
      "execution_count": null,
      "outputs": [
        {
          "output_type": "stream",
          "name": "stdout",
          "text": [
            "20\n"
          ]
        }
      ]
    },
    {
      "cell_type": "markdown",
      "source": [
        "2. Create a Python function that accepts a string and returns the reverse of that string."
      ],
      "metadata": {
        "id": "v71d3PpyFIVp"
      }
    },
    {
      "cell_type": "code",
      "source": [
        "def reverse_string(input_str):\n",
        "    return input_str[::-1]\n",
        "\n",
        "# Example usage:\n",
        "text = \"Hello\"\n",
        "print(reverse_string(text))  # Output: \"olleH\"\n"
      ],
      "metadata": {
        "colab": {
          "base_uri": "https://localhost:8080/"
        },
        "id": "IuLpsJ6pFOiM",
        "outputId": "355d0d22-72be-4a48-f11b-8b87f8b9ecee"
      },
      "execution_count": null,
      "outputs": [
        {
          "output_type": "stream",
          "name": "stdout",
          "text": [
            "olleH\n"
          ]
        }
      ]
    },
    {
      "cell_type": "markdown",
      "source": [
        "3. Implement a Python function that takes a list of integers and returns a new list containing the squares of\n",
        "each number."
      ],
      "metadata": {
        "id": "sDMkfipCgz8R"
      }
    },
    {
      "cell_type": "code",
      "source": [
        "def square_numbers(numbers):\n",
        "    return [num ** 2 for num in numbers]\n",
        "print(square_numbers([1, 2, 3, 4, 5]))\n"
      ],
      "metadata": {
        "colab": {
          "base_uri": "https://localhost:8080/"
        },
        "id": "jH09g8ATgcCK",
        "outputId": "116de1ce-de6c-4d58-91bc-3a7760d49ca8"
      },
      "execution_count": null,
      "outputs": [
        {
          "output_type": "stream",
          "name": "stdout",
          "text": [
            "[1, 4, 9, 16, 25]\n"
          ]
        }
      ]
    },
    {
      "cell_type": "markdown",
      "source": [
        "4. Write a Python function that checks if a given number is prime or not from 1 to 200.\n",
        "\n",
        "\n"
      ],
      "metadata": {
        "id": "yWbbt-xwg5pi"
      }
    },
    {
      "cell_type": "code",
      "source": [
        "def is_prime(num):\n",
        "    if num <= 1:\n",
        "        return False\n",
        "    for i in range(2, int(num**0.5) + 1):\n",
        "        if num % i == 0:\n",
        "            return False\n",
        "    return True\n",
        "\n",
        "for number in range(1, 201):\n",
        "    if is_prime(number):\n",
        "        print(f\"{number} is a prime number\")"
      ],
      "metadata": {
        "colab": {
          "base_uri": "https://localhost:8080/"
        },
        "id": "q5rHLTHWhASB",
        "outputId": "08fd8c42-a495-44c1-c361-f41a7693fa9e"
      },
      "execution_count": null,
      "outputs": [
        {
          "output_type": "stream",
          "name": "stdout",
          "text": [
            "2 is a prime number\n",
            "3 is a prime number\n",
            "5 is a prime number\n",
            "7 is a prime number\n",
            "11 is a prime number\n",
            "13 is a prime number\n",
            "17 is a prime number\n",
            "19 is a prime number\n",
            "23 is a prime number\n",
            "29 is a prime number\n",
            "31 is a prime number\n",
            "37 is a prime number\n",
            "41 is a prime number\n",
            "43 is a prime number\n",
            "47 is a prime number\n",
            "53 is a prime number\n",
            "59 is a prime number\n",
            "61 is a prime number\n",
            "67 is a prime number\n",
            "71 is a prime number\n",
            "73 is a prime number\n",
            "79 is a prime number\n",
            "83 is a prime number\n",
            "89 is a prime number\n",
            "97 is a prime number\n",
            "101 is a prime number\n",
            "103 is a prime number\n",
            "107 is a prime number\n",
            "109 is a prime number\n",
            "113 is a prime number\n",
            "127 is a prime number\n",
            "131 is a prime number\n",
            "137 is a prime number\n",
            "139 is a prime number\n",
            "149 is a prime number\n",
            "151 is a prime number\n",
            "157 is a prime number\n",
            "163 is a prime number\n",
            "167 is a prime number\n",
            "173 is a prime number\n",
            "179 is a prime number\n",
            "181 is a prime number\n",
            "191 is a prime number\n",
            "193 is a prime number\n",
            "197 is a prime number\n",
            "199 is a prime number\n"
          ]
        }
      ]
    },
    {
      "cell_type": "markdown",
      "source": [
        "5. Create an iterator class in Python that generates the Fibonacci sequence up to a specified number of\n",
        "terms."
      ],
      "metadata": {
        "id": "h4fIH038h0n2"
      }
    },
    {
      "cell_type": "code",
      "source": [
        "# Create an iterator for 10 Fibonacci numbers\n",
        "fib = FibonacciIterator(10)\n",
        "\n",
        "for num in fib:\n",
        "    print(num)\n"
      ],
      "metadata": {
        "colab": {
          "base_uri": "https://localhost:8080/"
        },
        "id": "HM3xdDGvisBg",
        "outputId": "7c754bcb-780f-4c48-c44f-6dd235b9766d"
      },
      "execution_count": null,
      "outputs": [
        {
          "output_type": "stream",
          "name": "stdout",
          "text": [
            "0\n",
            "1\n",
            "1\n",
            "2\n",
            "3\n",
            "5\n",
            "8\n",
            "13\n",
            "21\n",
            "34\n"
          ]
        }
      ]
    },
    {
      "cell_type": "markdown",
      "source": [
        "6. Write a generator function in Python that yields the powers of 2 up to a given exponent."
      ],
      "metadata": {
        "id": "mtH4c0_6i1D0"
      }
    },
    {
      "cell_type": "code",
      "source": [
        "for p in powers_of_two(5):\n",
        "    print(p)\n"
      ],
      "metadata": {
        "colab": {
          "base_uri": "https://localhost:8080/"
        },
        "id": "NeXrLGTxj6qW",
        "outputId": "e6b8f9ab-dd47-4082-9b6e-b6f8038300aa"
      },
      "execution_count": null,
      "outputs": [
        {
          "output_type": "stream",
          "name": "stdout",
          "text": [
            "1\n",
            "2\n",
            "4\n",
            "8\n",
            "16\n",
            "32\n"
          ]
        }
      ]
    },
    {
      "cell_type": "markdown",
      "source": [
        "7. Implement a generator function that reads a file line by line and yields each line as a string."
      ],
      "metadata": {
        "id": "jnX09bdxxzqO"
      }
    },
    {
      "cell_type": "code",
      "source": [
        "def read_lines_from_file(file_path):\n",
        "    with open(file_path, 'r') as file:\n",
        "        for line in file:\n",
        "            yield line"
      ],
      "metadata": {
        "id": "5Pu1F0Zdx1Hc"
      },
      "execution_count": 1,
      "outputs": []
    },
    {
      "cell_type": "markdown",
      "source": [
        "8. Use a lambda function in Python to sort a list of tuples based on the second element of each tuple."
      ],
      "metadata": {
        "id": "swwYo5OnyW11"
      }
    },
    {
      "cell_type": "code",
      "source": [
        "my_list = [(1, 4), (3, 2), (5, 1), (2, 3)]\n",
        "sorted_list = sorted(my_list, key=lambda x: x[1])\n",
        "print(sorted_list)\n"
      ],
      "metadata": {
        "colab": {
          "base_uri": "https://localhost:8080/"
        },
        "id": "bMz9MUnXyaYV",
        "outputId": "02f00192-aeed-4b49-f905-6cec345f1499"
      },
      "execution_count": 2,
      "outputs": [
        {
          "output_type": "stream",
          "name": "stdout",
          "text": [
            "[(5, 1), (3, 2), (2, 3), (1, 4)]\n"
          ]
        }
      ]
    },
    {
      "cell_type": "markdown",
      "source": [
        "9. Write a Python program that uses `map()` to convert a list of temperatures from Celsius to Fahrenheit."
      ],
      "metadata": {
        "id": "Zi1DxgWEy8wd"
      }
    },
    {
      "cell_type": "code",
      "source": [
        "# List of temperatures in Celsius\n",
        "celsius = [0, 20, 37, 100]\n",
        "\n",
        "# Function to convert Celsius to Fahrenheit\n",
        "def to_fahrenheit(c):\n",
        "    return (c * 9/5) + 32\n",
        "\n",
        "# Use map() to apply the function to each element in the list\n",
        "fahrenheit = list(map(to_fahrenheit, celsius))\n",
        "\n",
        "print(\"Celsius:\", celsius)\n",
        "print(\"Fahrenheit:\", fahrenheit)\n"
      ],
      "metadata": {
        "id": "F4DXsqWEy7M1"
      },
      "execution_count": null,
      "outputs": []
    },
    {
      "cell_type": "markdown",
      "source": [
        "10. Create a Python program that uses `filter()` to remove all the vowels from a given string."
      ],
      "metadata": {
        "id": "3xiOkd9wzCZb"
      }
    },
    {
      "cell_type": "code",
      "source": [
        "def remove_vowels(input_string):\n",
        "    vowels = 'aeiouAEIOU'\n",
        "    # Use filter to keep only non-vowel characters\n",
        "    result = ''.join(filter(lambda ch: ch not in vowels, input_string))\n",
        "    return result\n",
        "\n",
        "# Example usage:\n",
        "text = \"Hello World\"\n",
        "print(remove_vowels(text))  # Output: \"Hll Wrld\"\n"
      ],
      "metadata": {
        "colab": {
          "base_uri": "https://localhost:8080/"
        },
        "id": "oMVODJJTzHuQ",
        "outputId": "3144bf55-f724-4332-95a7-1156e49b2743"
      },
      "execution_count": 3,
      "outputs": [
        {
          "output_type": "stream",
          "name": "stdout",
          "text": [
            "Hll Wrld\n"
          ]
        }
      ]
    },
    {
      "cell_type": "markdown",
      "source": [
        "11) Imagine an accounting routine used in a book shop. It works on a list with sublists, which look like this:orders = [\n",
        "    [\"34587\", \"Learning Python, Mark Lutz\", 4, 40.95],\n",
        "    [\"98762\", \"Programming Python, Mark Lutz\", 5, 56.80],\n",
        "    [\"77226\", \"Head First Python, Paul Barry\", 3, 32.95],\n",
        "    [\"88112\", \"Python Cookbook, David Beazley\", 3, 24.99]\n",
        "\n",
        "\n",
        "\n",
        "\n",
        "\n",
        "\n",
        "Write a Python program, which returns a list with 2-tuples. Each tuple consists of the order number and the\n",
        "product of the price per item and the quantity. The product should be increased by 10,- € if the value of the\n",
        "order is smaller than 100,00 €.\n",
        "\n",
        "Write a Python program using lambda and map"
      ],
      "metadata": {
        "id": "QYnxZlRKzWq7"
      }
    },
    {
      "cell_type": "code",
      "source": [
        "orders = [\n",
        "    [\"34587\", \"Learning Python, Mark Lutz\", 4, 40.95],\n",
        "    [\"98762\", \"Programming Python, Mark Lutz\", 5, 56.80],\n",
        "    [\"77226\", \"Head First Python, Paul Barry\", 3, 32.95],\n",
        "    [\"88112\", \"Python Cookbook, David Beazley\", 3, 24.99]\n",
        "]"
      ],
      "metadata": {
        "id": "Ic5E1T2y2MTX"
      },
      "execution_count": 5,
      "outputs": []
    },
    {
      "cell_type": "code",
      "metadata": {
        "colab": {
          "base_uri": "https://localhost:8080/"
        },
        "id": "2053969f",
        "outputId": "d34e8580-9e97-4a04-de3f-03a543bd5f06"
      },
      "source": [
        "processed_orders = list(map(lambda order: (order[0], order[2] * order[3] + (10 if order[2] * order[3] < 100 else 0)), orders))\n",
        "print(processed_orders)"
      ],
      "execution_count": 6,
      "outputs": [
        {
          "output_type": "stream",
          "name": "stdout",
          "text": [
            "[('34587', 163.8), ('98762', 284.0), ('77226', 108.85000000000001), ('88112', 84.97)]\n"
          ]
        }
      ]
    }
  ]
}